{
 "cells": [
  {
   "cell_type": "code",
   "execution_count": null,
   "metadata": {},
   "outputs": [],
   "source": [
    "import numpy as np\n",
    "import matplotlib.pyplot as plt\n"
   ]
  },
  {
   "cell_type": "code",
   "execution_count": 7,
   "metadata": {},
   "outputs": [],
   "source": [
    "def show_success_rate(episode_rewards):\n",
    "    episodes = len(episode_rewards)\n",
    "    episode_unit = 1000\n",
    "    rates = np.average(episode_rewards.reshape(\n",
    "        [episodes//episode_unit, episode_unit]), axis=1)*100\n",
    "    x = [(i+1)*episode_unit for i in range(episodes//episode_unit)]\n",
    "    plt.plot(x, rates)\n",
    "    plt.title(f'Success rate per {episode_unit} episodes')\n",
    "    plt.xlabel('Episode (th times)')\n",
    "    plt.ylabel('Success rate (%)')\n"
   ]
  },
  {
   "cell_type": "code",
   "execution_count": 6,
   "metadata": {},
   "outputs": [],
   "source": [
    "class ActorCriticAgent:\n",
    "    def __init__(self, n_states, n_actions, gamma) -> None:\n",
    "        self.actor = self.Actor(n_states, n_actions)\n",
    "        self.critic = self.Critic(n_states, n_actions, gamma)\n",
    "        self.gamma = gamma\n",
    "\n",
    "    def take_action(self, state):\n",
    "        return self.actor.take_action(state)\n",
    "\n",
    "    def learn(self, state, action, reward, next_state, alpha):\n",
    "        td_error = self.critic.get_td_error(\n",
    "            state, action, reward, next_state, alpha)\n",
    "        self.actor.update_policy(state, action, td_error, alpha)\n",
    "        self.critic.update_V(state, td_error, alpha)\n",
    "\n",
    "    class Actor:\n",
    "        def __init__(self, n_states, n_actions) -> None:\n",
    "            self.n_actions = n_actions\n",
    "            self.Q = np.random.uniform(size=(n_states, n_actions))\n",
    "            self.policy = np.full((n_states, n_actions), 1/n_actions)\n",
    "\n",
    "        def __softmax(self, x):\n",
    "            return np.exp(x)/np.sum(np.exp(x), axis=0)\n",
    "\n",
    "        def update_policy(self, state, action, td_error, alpha):\n",
    "            self.__update_Q(state, action, td_error, alpha)\n",
    "            self.policy[state] = self.__softmax(self.Q[state])\n",
    "\n",
    "        def take_action(self, state):\n",
    "            actions = [i for i in range(self.n_actions)]\n",
    "            action = np.random.choice(actions, p=self.policy[state])\n",
    "            return action\n",
    "\n",
    "        def __update_Q(self, state, action, td_error, alpha):\n",
    "            self.Q[state][action] += alpha*td_error\n",
    "\n",
    "    class Critic:\n",
    "        def __init__(self, n_states, n_actions, gamma) -> None:\n",
    "            self.n_actions = n_actions\n",
    "            self.V = np.zeros((n_states))\n",
    "            self.gamma = gamma\n",
    "\n",
    "        def get_td_error(self, state, action, reward, next_state, alpha):\n",
    "            gain = reward+self.gamma*self.V[next_state]\n",
    "            estimated = self.V[state]\n",
    "            td_error = gain-estimated\n",
    "            return td_error\n",
    "\n",
    "        def update_V(self, state, td_error, alpha):\n",
    "            self.V[state] += alpha*td_error\n"
   ]
  },
  {
   "cell_type": "code",
   "execution_count": 35,
   "metadata": {},
   "outputs": [],
   "source": [
    "ALPHA = 0.3\n",
    "GAMMA = 0.99\n",
    "EPISODES = 20000\n",
    "ENV = 'FrozenLake-v1'\n",
    "\n",
    "\n",
    "def main():\n",
    "    env = gym.make(ENV, is_slippery=True)\n",
    "    n_states = env.observation_space.n\n",
    "    n_actions = env.action_space.n\n",
    "    agent = ActorCriticAgent(n_states, n_actions, GAMMA)\n",
    "    episode_rewards = np.zeros((EPISODES))\n",
    "\n",
    "    for e in range(EPISODES):\n",
    "        state = env.reset()\n",
    "        done = False\n",
    "        alpha = ALPHA*e/EPISODES\n",
    "        while not done:\n",
    "            action = agent.take_action(state)\n",
    "            next_state, reward, done, info = env.step(action)\n",
    "            agent.learn(state, action, reward, next_state, alpha)\n",
    "            state = next_state\n",
    "            episode_rewards[e] += reward\n",
    "        \n",
    "        \n",
    "        if(e % 1000 == 0 and e != 0):\n",
    "            print(f'{e}/{EPISODES} episode completed')\n",
    "\n",
    "    return episode_rewards"
   ]
  },
  {
   "cell_type": "code",
   "execution_count": 37,
   "metadata": {},
   "outputs": [
    {
     "name": "stdout",
     "output_type": "stream",
     "text": [
      "1000/20000 episode completed\n",
      "2000/20000 episode completed\n",
      "3000/20000 episode completed\n",
      "4000/20000 episode completed\n",
      "5000/20000 episode completed\n",
      "6000/20000 episode completed\n",
      "7000/20000 episode completed\n",
      "8000/20000 episode completed\n",
      "9000/20000 episode completed\n",
      "10000/20000 episode completed\n",
      "11000/20000 episode completed\n",
      "12000/20000 episode completed\n",
      "13000/20000 episode completed\n",
      "14000/20000 episode completed\n",
      "15000/20000 episode completed\n",
      "16000/20000 episode completed\n",
      "17000/20000 episode completed\n",
      "18000/20000 episode completed\n",
      "19000/20000 episode completed\n"
     ]
    },
    {
     "data": {
      "image/png": "[encoded data removed]",
      "text/plain": [
       "<Figure size 432x288 with 1 Axes>"
      ]
     },
     "metadata": {
      "needs_background": "light"
     },
     "output_type": "display_data"
    }
   ],
   "source": [
    "episode_rewards = main()\n",
    "show_success_rate(episode_rewards)"
   ]
  },
  {
   "cell_type": "code",
   "execution_count": 18,
   "metadata": {},
   "outputs": [],
   "source": [
    "def testPolicy(agent, trials=100):\n",
    "    env = gym.make(\"FrozenLake-v1\", is_slippery=True)\n",
    "    env.reset()\n",
    "    success = 0\n",
    "\n",
    "    for _ in range(trials):\n",
    "        done = False\n",
    "        state = env.reset()\n",
    "        while not done:\n",
    "            action = agent.take_action(state)\n",
    "            state, _, done, _ = env.step(action)\n",
    "            if state == 15:\n",
    "                success += 1\n",
    "\n",
    "    avg_success_rate = success / trials\n",
    "    return avg_success_rate"
   ]
  },
  {
   "cell_type": "code",
   "execution_count": 31,
   "metadata": {},
   "outputs": [],
   "source": [
    "def plot(success_rate, title):\n",
    "    \"\"\"\n",
    "    Plots for success rate over every iteration\n",
    "\n",
    "    :param success_rate: list, a list of success rate\n",
    "    :param title: str, plot title\n",
    "    \"\"\"\n",
    "    plt.figure()\n",
    "    plt.plot(success_rate)\n",
    "    plt.title(title)\n",
    "    plt.xlabel(\"Episode\")\n",
    "    plt.ylabel(\"Success rate\")\n",
    "    plt.savefig(title + \".png\", dpi=150)\n",
    "    plt.show()"
   ]
  },
  {
   "cell_type": "code",
   "execution_count": 36,
   "metadata": {},
   "outputs": [
    {
     "data": {
      "image/png": "[encoded data removed]",
      "text/plain": [
       "<Figure size 432x288 with 1 Axes>"
      ]
     },
     "metadata": {
      "needs_background": "light"
     },
     "output_type": "display_data"
    }
   ],
   "source": [
    "plot(success_rate, \"Average success rate v.s. Episode (Actor-Critic)\")"
   ]
  }
 ],
 "metadata": {
  "kernelspec": {
   "display_name": "Python 3.8.3 64-bit ('base': conda)",
   "language": "python",
   "name": "python383jvsc74a57bd09e3b32acd20e6890039b900c9485b74ecd21a403534e5bb4316104b2af30ebc3"
  },
  "language_info": {
   "codemirror_mode": {
    "name": "ipython",
    "version": 3
   },
   "file_extension": ".py",
   "mimetype": "text/x-python",
   "name": "python",
   "nbconvert_exporter": "python",
   "pygments_lexer": "ipython3",
   "version": "3.8.3"
  }
 },
 "nbformat": 4,
 "nbformat_minor": 4
}
