{
 "cells": [
  {
   "cell_type": "markdown",
   "metadata": {},
   "source": [
    "## Algorytm Aktor Krytyk"
   ]
  },
  {
   "cell_type": "code",
   "execution_count": 1,
   "metadata": {},
   "outputs": [],
   "source": [
    "import gym\n",
    "import numpy as np\n",
    "import matplotlib.pyplot as plt"
   ]
  },
  {
   "cell_type": "markdown",
   "metadata": {},
   "source": [
    "### Funkcje pomocnicze"
   ]
  },
  {
   "cell_type": "code",
   "execution_count": 2,
   "metadata": {},
   "outputs": [],
   "source": [
    "def testPolicy(agent, trials=100):\n",
    "    env = gym.make(\"FrozenLake-v1\", is_slippery=True)\n",
    "    env.reset()\n",
    "    success = 0\n",
    "\n",
    "    for _ in range(trials):\n",
    "        done = False\n",
    "        state = env.reset()\n",
    "        while not done:\n",
    "            action = agent.take_action(state)\n",
    "            state, _, done, _ = env.step(action)\n",
    "            if state == 15:\n",
    "                success += 1\n",
    "\n",
    "    avg_success_rate = success / trials\n",
    "    return avg_success_rate"
   ]
  },
  {
   "cell_type": "code",
   "execution_count": 3,
   "metadata": {},
   "outputs": [],
   "source": [
    "def plot(success_rate, title):\n",
    "    \"\"\"\n",
    "    Plots for success rate over every iteration\n",
    "\n",
    "    :param success_rate: list, a list of success rate\n",
    "    :param title: str, plot title\n",
    "    \"\"\"\n",
    "    plt.figure()\n",
    "    plt.plot(success_rate)\n",
    "    plt.title(title)\n",
    "    plt.xlabel(\"Epoka\")\n",
    "    plt.ylabel(\"Współczynnik sukcesu\")\n",
    "    plt.show()"
   ]
  },
  {
   "cell_type": "code",
   "execution_count": 4,
   "metadata": {},
   "outputs": [],
   "source": [
    "def show_success_rate(episode_rewards):\n",
    "    episodes = len(episode_rewards)\n",
    "    episode_unit = 1000\n",
    "    rates = np.average(episode_rewards.reshape(\n",
    "        [episodes//episode_unit, episode_unit]), axis=1)*100\n",
    "    x = [(i+1)*episode_unit for i in range(episodes//episode_unit)]\n",
    "    plt.plot(x, rates)\n",
    "    plt.title(f'Współczynnik sukcesu dla {episode_unit} epok')\n",
    "    plt.xlabel('Epoka')\n",
    "    plt.ylabel('Współczynnik sukcesu')"
   ]
  },
  {
   "cell_type": "markdown",
   "metadata": {},
   "source": [
    "### Implementacja agenta algorytmu Aktor Krytyk"
   ]
  },
  {
   "cell_type": "code",
   "execution_count": 5,
   "metadata": {},
   "outputs": [],
   "source": [
    "class ActorCriticAgent:\n",
    "    def __init__(self, n_states, n_actions, gamma) -> None:\n",
    "        self.actor = self.Actor(n_states, n_actions)\n",
    "        self.critic = self.Critic(n_states, n_actions, gamma)\n",
    "        self.gamma = gamma\n",
    "\n",
    "    def take_action(self, state):\n",
    "        return self.actor.take_action(state)\n",
    "\n",
    "    def learn(self, state, action, reward, next_state, alpha):\n",
    "        td_error = self.critic.get_td_error(\n",
    "            state, action, reward, next_state, alpha)\n",
    "        self.actor.update_policy(state, action, td_error, alpha)\n",
    "        self.critic.update_V(state, td_error, alpha)\n",
    "\n",
    "    class Actor:\n",
    "        def __init__(self, n_states, n_actions) -> None:\n",
    "            self.n_actions = n_actions\n",
    "            self.Q = np.random.uniform(size=(n_states, n_actions))\n",
    "            self.policy = np.full((n_states, n_actions), 1/n_actions)\n",
    "\n",
    "        def __softmax(self, x):\n",
    "            return np.exp(x)/np.sum(np.exp(x), axis=0)\n",
    "\n",
    "        def update_policy(self, state, action, td_error, alpha):\n",
    "            self.__update_Q(state, action, td_error, alpha)\n",
    "            self.policy[state] = self.__softmax(self.Q[state])\n",
    "\n",
    "        def take_action(self, state):\n",
    "            actions = [i for i in range(self.n_actions)]\n",
    "            action = np.random.choice(actions, p=self.policy[state])\n",
    "            return action\n",
    "\n",
    "        def __update_Q(self, state, action, td_error, alpha):\n",
    "            self.Q[state][action] += alpha*td_error\n",
    "\n",
    "    class Critic:\n",
    "        def __init__(self, n_states, n_actions, gamma) -> None:\n",
    "            self.n_actions = n_actions\n",
    "            self.V = np.zeros((n_states))\n",
    "            self.gamma = gamma\n",
    "\n",
    "        def get_td_error(self, state, action, reward, next_state, alpha):\n",
    "            gain = reward+self.gamma*self.V[next_state]\n",
    "            estimated = self.V[state]\n",
    "            td_error = gain-estimated\n",
    "            return td_error\n",
    "\n",
    "        def update_V(self, state, td_error, alpha):\n",
    "            self.V[state] += alpha*td_error\n"
   ]
  },
  {
   "cell_type": "markdown",
   "metadata": {},
   "source": [
    "### Metoda ucząca algorytm"
   ]
  },
  {
   "cell_type": "code",
   "execution_count": 6,
   "metadata": {},
   "outputs": [],
   "source": [
    "def main():\n",
    "    env = gym.make(ENV, is_slippery=True, map_name=MAP_NAME)\n",
    "    n_states = env.observation_space.n\n",
    "    n_actions = env.action_space.n\n",
    "    agent = ActorCriticAgent(n_states, n_actions, GAMMA)\n",
    "    episode_rewards = np.zeros((EPISODES))\n",
    "\n",
    "    for e in range(EPISODES):\n",
    "        state = env.reset()\n",
    "        done = False\n",
    "        alpha = ALPHA*e/EPISODES\n",
    "        while not done:\n",
    "            action = agent.take_action(state)\n",
    "            next_state, reward, done, info = env.step(action)\n",
    "            agent.learn(state, action, reward, next_state, alpha)\n",
    "            state = next_state\n",
    "            episode_rewards[e] += reward\n",
    "        \n",
    "        \n",
    "        if(e % 1000 == 0 and e != 0):\n",
    "            print(f'{e}/{EPISODES} episode completed')\n",
    "\n",
    "    return episode_rewards"
   ]
  },
  {
   "cell_type": "code",
   "execution_count": 7,
   "metadata": {},
   "outputs": [
    {
     "name": "stdout",
     "output_type": "stream",
     "text": [
      "1000/10000 episode completed\n",
      "2000/10000 episode completed\n",
      "3000/10000 episode completed\n",
      "4000/10000 episode completed\n",
      "5000/10000 episode completed\n",
      "6000/10000 episode completed\n",
      "7000/10000 episode completed\n",
      "8000/10000 episode completed\n",
      "9000/10000 episode completed\n"
     ]
    },
    {
     "data": {
      "image/png": "[encoded data removed]",
      "text/plain": [
       "<Figure size 432x288 with 1 Axes>"
      ]
     },
     "metadata": {
      "needs_background": "light"
     },
     "output_type": "display_data"
    }
   ],
   "source": [
    "ALPHA = 0.3\n",
    "GAMMA = 0.99\n",
    "EPISODES = 10000\n",
    "ENV = 'FrozenLake-v1'\n",
    "MAP_NAME = \"4x4\"\n",
    "\n",
    "episode_rewards = main()\n",
    "show_success_rate(episode_rewards)"
   ]
  },
  {
   "cell_type": "code",
   "execution_count": 8,
   "metadata": {},
   "outputs": [
    {
     "name": "stdout",
     "output_type": "stream",
     "text": [
      "1000/10000 episode completed\n",
      "2000/10000 episode completed\n",
      "3000/10000 episode completed\n",
      "4000/10000 episode completed\n",
      "5000/10000 episode completed\n",
      "6000/10000 episode completed\n",
      "7000/10000 episode completed\n",
      "8000/10000 episode completed\n",
      "9000/10000 episode completed\n",
      "CPU times: user 27.5 s, sys: 19.8 ms, total: 27.6 s\n",
      "Wall time: 27.6 s\n"
     ]
    },
    {
     "data": {
      "text/plain": [
       "array([0., 0., 0., ..., 0., 1., 1.])"
      ]
     },
     "execution_count": 8,
     "metadata": {},
     "output_type": "execute_result"
    }
   ],
   "source": [
    "%%time\n",
    "main()"
   ]
  },
  {
   "cell_type": "code",
   "execution_count": 9,
   "metadata": {},
   "outputs": [
    {
     "name": "stdout",
     "output_type": "stream",
     "text": [
      "1000/40000 episode completed\n",
      "2000/40000 episode completed\n",
      "3000/40000 episode completed\n",
      "4000/40000 episode completed\n",
      "5000/40000 episode completed\n",
      "6000/40000 episode completed\n",
      "7000/40000 episode completed\n",
      "8000/40000 episode completed\n",
      "9000/40000 episode completed\n",
      "10000/40000 episode completed\n",
      "11000/40000 episode completed\n",
      "12000/40000 episode completed\n",
      "13000/40000 episode completed\n",
      "14000/40000 episode completed\n",
      "15000/40000 episode completed\n",
      "16000/40000 episode completed\n",
      "17000/40000 episode completed\n",
      "18000/40000 episode completed\n",
      "19000/40000 episode completed\n",
      "20000/40000 episode completed\n",
      "21000/40000 episode completed\n",
      "22000/40000 episode completed\n",
      "23000/40000 episode completed\n",
      "24000/40000 episode completed\n",
      "25000/40000 episode completed\n",
      "26000/40000 episode completed\n",
      "27000/40000 episode completed\n",
      "28000/40000 episode completed\n",
      "29000/40000 episode completed\n",
      "30000/40000 episode completed\n",
      "31000/40000 episode completed\n",
      "32000/40000 episode completed\n",
      "33000/40000 episode completed\n",
      "34000/40000 episode completed\n",
      "35000/40000 episode completed\n",
      "36000/40000 episode completed\n",
      "37000/40000 episode completed\n",
      "38000/40000 episode completed\n",
      "39000/40000 episode completed\n"
     ]
    },
    {
     "data": {
      "image/png": "[encoded data removed]",
      "text/plain": [
       "<Figure size 432x288 with 1 Axes>"
      ]
     },
     "metadata": {
      "needs_background": "light"
     },
     "output_type": "display_data"
    }
   ],
   "source": [
    "ALPHA = 0.3\n",
    "GAMMA = 0.99\n",
    "EPISODES = 40000\n",
    "ENV = 'FrozenLake-v1'\n",
    "MAP_NAME = \"8x8\"\n",
    "\n",
    "episode_rewards = main()\n",
    "show_success_rate(episode_rewards)"
   ]
  },
  {
   "cell_type": "code",
   "execution_count": 10,
   "metadata": {},
   "outputs": [
    {
     "name": "stdout",
     "output_type": "stream",
     "text": [
      "1000/40000 episode completed\n",
      "2000/40000 episode completed\n",
      "3000/40000 episode completed\n",
      "4000/40000 episode completed\n",
      "5000/40000 episode completed\n",
      "6000/40000 episode completed\n",
      "7000/40000 episode completed\n",
      "8000/40000 episode completed\n",
      "9000/40000 episode completed\n",
      "10000/40000 episode completed\n",
      "11000/40000 episode completed\n",
      "12000/40000 episode completed\n",
      "13000/40000 episode completed\n",
      "14000/40000 episode completed\n",
      "15000/40000 episode completed\n",
      "16000/40000 episode completed\n",
      "17000/40000 episode completed\n",
      "18000/40000 episode completed\n",
      "19000/40000 episode completed\n",
      "20000/40000 episode completed\n",
      "21000/40000 episode completed\n",
      "22000/40000 episode completed\n",
      "23000/40000 episode completed\n",
      "24000/40000 episode completed\n",
      "25000/40000 episode completed\n",
      "26000/40000 episode completed\n",
      "27000/40000 episode completed\n",
      "28000/40000 episode completed\n",
      "29000/40000 episode completed\n",
      "30000/40000 episode completed\n",
      "31000/40000 episode completed\n",
      "32000/40000 episode completed\n",
      "33000/40000 episode completed\n",
      "34000/40000 episode completed\n",
      "35000/40000 episode completed\n",
      "36000/40000 episode completed\n",
      "37000/40000 episode completed\n",
      "38000/40000 episode completed\n",
      "39000/40000 episode completed\n",
      "CPU times: user 5min 43s, sys: 1.23 s, total: 5min 44s\n",
      "Wall time: 5min 51s\n"
     ]
    },
    {
     "data": {
      "text/plain": [
       "array([0., 0., 0., ..., 1., 1., 0.])"
      ]
     },
     "execution_count": 10,
     "metadata": {},
     "output_type": "execute_result"
    }
   ],
   "source": [
    "%%time\n",
    "main()"
   ]
  }
 ],
 "metadata": {
  "kernelspec": {
   "display_name": "Python 3",
   "language": "python",
   "name": "python3"
  },
  "language_info": {
   "codemirror_mode": {
    "name": "ipython",
    "version": 3
   },
   "file_extension": ".py",
   "mimetype": "text/x-python",
   "name": "python",
   "nbconvert_exporter": "python",
   "pygments_lexer": "ipython3",
   "version": "3.8.10"
  }
 },
 "nbformat": 4,
 "nbformat_minor": 4
}
